{
 "cells": [
  {
   "cell_type": "code",
   "execution_count": 1,
   "metadata": {},
   "outputs": [],
   "source": [
    "import pandas as pd\n",
    "import numpy as np\n",
    "import seaborn as sns"
   ]
  },
  {
   "cell_type": "code",
   "execution_count": 46,
   "metadata": {},
   "outputs": [],
   "source": [
    "df = pd.read_csv('2015.txt',sep = '\\t', header = 1)\n",
    "\n",
    "df = df.drop(['Unknown', 'Unnamed: 10'], 1) # Dataframe pre-processing"
   ]
  },
  {
   "cell_type": "code",
   "execution_count": 47,
   "metadata": {},
   "outputs": [
    {
     "data": {
      "text/html": [
       "<div>\n",
       "<style scoped>\n",
       "    .dataframe tbody tr th:only-of-type {\n",
       "        vertical-align: middle;\n",
       "    }\n",
       "\n",
       "    .dataframe tbody tr th {\n",
       "        vertical-align: top;\n",
       "    }\n",
       "\n",
       "    .dataframe thead th {\n",
       "        text-align: right;\n",
       "    }\n",
       "</style>\n",
       "<table border=\"1\" class=\"dataframe\">\n",
       "  <thead>\n",
       "    <tr style=\"text-align: right;\">\n",
       "      <th></th>\n",
       "      <th>FieldDesc</th>\n",
       "      <th>Sunday</th>\n",
       "      <th>Monday</th>\n",
       "      <th>Tuesday</th>\n",
       "      <th>Wednesday</th>\n",
       "      <th>Thursday</th>\n",
       "      <th>Friday</th>\n",
       "      <th>Saturday</th>\n",
       "      <th>Total</th>\n",
       "    </tr>\n",
       "  </thead>\n",
       "  <tbody>\n",
       "    <tr>\n",
       "      <th>0</th>\n",
       "      <td>Midnight to 2:59 a.m.</td>\n",
       "      <td>987</td>\n",
       "      <td>347</td>\n",
       "      <td>264</td>\n",
       "      <td>314</td>\n",
       "      <td>405</td>\n",
       "      <td>471</td>\n",
       "      <td>910</td>\n",
       "      <td>3698</td>\n",
       "    </tr>\n",
       "    <tr>\n",
       "      <th>1</th>\n",
       "      <td>3 a.m. to 5:59 a.m.</td>\n",
       "      <td>638</td>\n",
       "      <td>281</td>\n",
       "      <td>270</td>\n",
       "      <td>297</td>\n",
       "      <td>318</td>\n",
       "      <td>347</td>\n",
       "      <td>546</td>\n",
       "      <td>2697</td>\n",
       "    </tr>\n",
       "    <tr>\n",
       "      <th>2</th>\n",
       "      <td>6 a.m. to 8:59 a.m.</td>\n",
       "      <td>342</td>\n",
       "      <td>482</td>\n",
       "      <td>515</td>\n",
       "      <td>496</td>\n",
       "      <td>503</td>\n",
       "      <td>511</td>\n",
       "      <td>409</td>\n",
       "      <td>3258</td>\n",
       "    </tr>\n",
       "    <tr>\n",
       "      <th>3</th>\n",
       "      <td>9 a.m. to 11:59 a.m.</td>\n",
       "      <td>411</td>\n",
       "      <td>439</td>\n",
       "      <td>433</td>\n",
       "      <td>433</td>\n",
       "      <td>452</td>\n",
       "      <td>439</td>\n",
       "      <td>496</td>\n",
       "      <td>3103</td>\n",
       "    </tr>\n",
       "    <tr>\n",
       "      <th>4</th>\n",
       "      <td>Noon to 2:59 p.m.</td>\n",
       "      <td>569</td>\n",
       "      <td>570</td>\n",
       "      <td>555</td>\n",
       "      <td>604</td>\n",
       "      <td>601</td>\n",
       "      <td>624</td>\n",
       "      <td>598</td>\n",
       "      <td>4121</td>\n",
       "    </tr>\n",
       "    <tr>\n",
       "      <th>5</th>\n",
       "      <td>3 p.m. to 5:59 p.m.</td>\n",
       "      <td>744</td>\n",
       "      <td>721</td>\n",
       "      <td>705</td>\n",
       "      <td>715</td>\n",
       "      <td>724</td>\n",
       "      <td>795</td>\n",
       "      <td>770</td>\n",
       "      <td>5174</td>\n",
       "    </tr>\n",
       "    <tr>\n",
       "      <th>6</th>\n",
       "      <td>6 p.m. to 8:59 p.m.</td>\n",
       "      <td>910</td>\n",
       "      <td>669</td>\n",
       "      <td>699</td>\n",
       "      <td>717</td>\n",
       "      <td>769</td>\n",
       "      <td>852</td>\n",
       "      <td>925</td>\n",
       "      <td>5541</td>\n",
       "    </tr>\n",
       "    <tr>\n",
       "      <th>7</th>\n",
       "      <td>9 p.m. to 11:59 p.m.</td>\n",
       "      <td>659</td>\n",
       "      <td>505</td>\n",
       "      <td>512</td>\n",
       "      <td>576</td>\n",
       "      <td>657</td>\n",
       "      <td>846</td>\n",
       "      <td>944</td>\n",
       "      <td>4699</td>\n",
       "    </tr>\n",
       "    <tr>\n",
       "      <th>8</th>\n",
       "      <td>Unknown</td>\n",
       "      <td>38</td>\n",
       "      <td>24</td>\n",
       "      <td>32</td>\n",
       "      <td>29</td>\n",
       "      <td>32</td>\n",
       "      <td>32</td>\n",
       "      <td>61</td>\n",
       "      <td>248</td>\n",
       "    </tr>\n",
       "    <tr>\n",
       "      <th>9</th>\n",
       "      <td>Total</td>\n",
       "      <td>5298</td>\n",
       "      <td>4038</td>\n",
       "      <td>3985</td>\n",
       "      <td>4181</td>\n",
       "      <td>4461</td>\n",
       "      <td>4917</td>\n",
       "      <td>5659</td>\n",
       "      <td>32539</td>\n",
       "    </tr>\n",
       "  </tbody>\n",
       "</table>\n",
       "</div>"
      ],
      "text/plain": [
       "               FieldDesc  Sunday  Monday  Tuesday  Wednesday  Thursday  \\\n",
       "0  Midnight to 2:59 a.m.     987     347      264        314       405   \n",
       "1    3 a.m. to 5:59 a.m.     638     281      270        297       318   \n",
       "2    6 a.m. to 8:59 a.m.     342     482      515        496       503   \n",
       "3   9 a.m. to 11:59 a.m.     411     439      433        433       452   \n",
       "4      Noon to 2:59 p.m.     569     570      555        604       601   \n",
       "5    3 p.m. to 5:59 p.m.     744     721      705        715       724   \n",
       "6    6 p.m. to 8:59 p.m.     910     669      699        717       769   \n",
       "7   9 p.m. to 11:59 p.m.     659     505      512        576       657   \n",
       "8                Unknown      38      24       32         29        32   \n",
       "9                  Total    5298    4038     3985       4181      4461   \n",
       "\n",
       "   Friday  Saturday  Total  \n",
       "0     471       910   3698  \n",
       "1     347       546   2697  \n",
       "2     511       409   3258  \n",
       "3     439       496   3103  \n",
       "4     624       598   4121  \n",
       "5     795       770   5174  \n",
       "6     852       925   5541  \n",
       "7     846       944   4699  \n",
       "8      32        61    248  \n",
       "9    4917      5659  32539  "
      ]
     },
     "execution_count": 47,
     "metadata": {},
     "output_type": "execute_result"
    }
   ],
   "source": [
    "df"
   ]
  },
  {
   "cell_type": "code",
   "execution_count": 17,
   "metadata": {},
   "outputs": [],
   "source": [
    "rows = list(df['FieldDesc'].unique())"
   ]
  },
  {
   "cell_type": "code",
   "execution_count": 18,
   "metadata": {},
   "outputs": [],
   "source": [
    "rows = rows[:-2]"
   ]
  },
  {
   "cell_type": "code",
   "execution_count": 24,
   "metadata": {},
   "outputs": [],
   "source": [
    "columns = list(df.iloc[:0, 1:-1])"
   ]
  },
  {
   "cell_type": "code",
   "execution_count": 25,
   "metadata": {},
   "outputs": [],
   "source": [
    "data = []\n",
    "for i in range(10):\n",
    "    data.append(np.array(df.iloc[i, 1:-1]))"
   ]
  },
  {
   "cell_type": "code",
   "execution_count": 27,
   "metadata": {},
   "outputs": [],
   "source": [
    "data = data[:-2]"
   ]
  },
  {
   "cell_type": "code",
   "execution_count": 28,
   "metadata": {},
   "outputs": [],
   "source": [
    "data = pd.DataFrame(data, index = rows, columns = columns)"
   ]
  },
  {
   "cell_type": "code",
   "execution_count": 45,
   "metadata": {},
   "outputs": [
    {
     "data": {
      "image/png": "[encoded data removed]",
      "text/plain": [
       "<Figure size 432x288 with 2 Axes>"
      ]
     },
     "metadata": {
      "needs_background": "light"
     },
     "output_type": "display_data"
    }
   ],
   "source": [
    "sns.heatmap(data = data, cmap = 'cool');"
   ]
  },
  {
   "cell_type": "code",
   "execution_count": null,
   "metadata": {},
   "outputs": [],
   "source": []
  }
 ],
 "metadata": {
  "kernelspec": {
   "display_name": "Python 3",
   "language": "python",
   "name": "python3"
  },
  "language_info": {
   "codemirror_mode": {
    "name": "ipython",
    "version": 3
   },
   "file_extension": ".py",
   "mimetype": "text/x-python",
   "name": "python",
   "nbconvert_exporter": "python",
   "pygments_lexer": "ipython3",
   "version": "3.7.1"
  }
 },
 "nbformat": 4,
 "nbformat_minor": 2
}

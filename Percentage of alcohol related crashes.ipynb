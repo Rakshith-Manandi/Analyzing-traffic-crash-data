{
 "cells": [
  {
   "cell_type": "code",
   "execution_count": 1,
   "metadata": {},
   "outputs": [],
   "source": [
    "import pandas as pd\n",
    "import seaborn as sns\n",
    "import matplotlib.pyplot as plt"
   ]
  },
  {
   "cell_type": "code",
   "execution_count": 2,
   "metadata": {},
   "outputs": [],
   "source": [
    "df = pd.read_csv('2015_1.txt', sep = '\\t', header = 2)"
   ]
  },
  {
   "cell_type": "code",
   "execution_count": 4,
   "metadata": {},
   "outputs": [
    {
     "data": {
      "text/html": [
       "<div>\n",
       "<style scoped>\n",
       "    .dataframe tbody tr th:only-of-type {\n",
       "        vertical-align: middle;\n",
       "    }\n",
       "\n",
       "    .dataframe tbody tr th {\n",
       "        vertical-align: top;\n",
       "    }\n",
       "\n",
       "    .dataframe thead th {\n",
       "        text-align: right;\n",
       "    }\n",
       "</style>\n",
       "<table border=\"1\" class=\"dataframe\">\n",
       "  <thead>\n",
       "    <tr style=\"text-align: right;\">\n",
       "      <th></th>\n",
       "      <th>FieldDesc</th>\n",
       "      <th>Number</th>\n",
       "      <th>Alcohol--Related</th>\n",
       "      <th>Percent Alcohol--Related</th>\n",
       "      <th>Number1</th>\n",
       "      <th>Alcohol--Related1</th>\n",
       "      <th>Percent Alcohol--Related1</th>\n",
       "      <th>Number2</th>\n",
       "      <th>Alcohol--Related2</th>\n",
       "      <th>Percent Alcohol--Related2</th>\n",
       "      <th>Unnamed: 10</th>\n",
       "    </tr>\n",
       "  </thead>\n",
       "  <tbody>\n",
       "    <tr>\n",
       "      <th>0</th>\n",
       "      <td>Midnight to 2:59 a.m.</td>\n",
       "      <td>2774</td>\n",
       "      <td>1569</td>\n",
       "      <td>57</td>\n",
       "      <td>924</td>\n",
       "      <td>559</td>\n",
       "      <td>60</td>\n",
       "      <td>3698</td>\n",
       "      <td>2128</td>\n",
       "      <td>58</td>\n",
       "      <td>NaN</td>\n",
       "    </tr>\n",
       "    <tr>\n",
       "      <th>1</th>\n",
       "      <td>3 a.m. to 5:59 a.m.</td>\n",
       "      <td>1862</td>\n",
       "      <td>811</td>\n",
       "      <td>44</td>\n",
       "      <td>835</td>\n",
       "      <td>333</td>\n",
       "      <td>40</td>\n",
       "      <td>2697</td>\n",
       "      <td>1144</td>\n",
       "      <td>42</td>\n",
       "      <td>NaN</td>\n",
       "    </tr>\n",
       "    <tr>\n",
       "      <th>2</th>\n",
       "      <td>6 a.m. to 8:59 a.m.</td>\n",
       "      <td>1685</td>\n",
       "      <td>296</td>\n",
       "      <td>18</td>\n",
       "      <td>1573</td>\n",
       "      <td>153</td>\n",
       "      <td>10</td>\n",
       "      <td>3258</td>\n",
       "      <td>449</td>\n",
       "      <td>14</td>\n",
       "      <td>NaN</td>\n",
       "    </tr>\n",
       "    <tr>\n",
       "      <th>3</th>\n",
       "      <td>9 a.m. to 11:59 a.m.</td>\n",
       "      <td>1467</td>\n",
       "      <td>156</td>\n",
       "      <td>11</td>\n",
       "      <td>1636</td>\n",
       "      <td>133</td>\n",
       "      <td>8</td>\n",
       "      <td>3103</td>\n",
       "      <td>289</td>\n",
       "      <td>9</td>\n",
       "      <td>NaN</td>\n",
       "    </tr>\n",
       "    <tr>\n",
       "      <th>4</th>\n",
       "      <td>Noon to 2:59 p.m.</td>\n",
       "      <td>1887</td>\n",
       "      <td>245</td>\n",
       "      <td>13</td>\n",
       "      <td>2234</td>\n",
       "      <td>246</td>\n",
       "      <td>11</td>\n",
       "      <td>4121</td>\n",
       "      <td>491</td>\n",
       "      <td>12</td>\n",
       "      <td>NaN</td>\n",
       "    </tr>\n",
       "  </tbody>\n",
       "</table>\n",
       "</div>"
      ],
      "text/plain": [
       "               FieldDesc  Number  Alcohol--Related  Percent Alcohol--Related  \\\n",
       "0  Midnight to 2:59 a.m.    2774              1569                        57   \n",
       "1    3 a.m. to 5:59 a.m.    1862               811                        44   \n",
       "2    6 a.m. to 8:59 a.m.    1685               296                        18   \n",
       "3   9 a.m. to 11:59 a.m.    1467               156                        11   \n",
       "4      Noon to 2:59 p.m.    1887               245                        13   \n",
       "\n",
       "   Number1  Alcohol--Related1  Percent Alcohol--Related1  Number2  \\\n",
       "0      924                559                         60     3698   \n",
       "1      835                333                         40     2697   \n",
       "2     1573                153                         10     3258   \n",
       "3     1636                133                          8     3103   \n",
       "4     2234                246                         11     4121   \n",
       "\n",
       "   Alcohol--Related2  Percent Alcohol--Related2  Unnamed: 10  \n",
       "0               2128                         58          NaN  \n",
       "1               1144                         42          NaN  \n",
       "2                449                         14          NaN  \n",
       "3                289                          9          NaN  \n",
       "4                491                         12          NaN  "
      ]
     },
     "execution_count": 4,
     "metadata": {},
     "output_type": "execute_result"
    }
   ],
   "source": [
    "df.head()"
   ]
  },
  {
   "cell_type": "code",
   "execution_count": 9,
   "metadata": {},
   "outputs": [],
   "source": [
    "rows = list(df['FieldDesc'].unique())\n",
    "rows = rows[:-2]"
   ]
  },
  {
   "cell_type": "code",
   "execution_count": 3,
   "metadata": {},
   "outputs": [],
   "source": [
    "total = []\n",
    "al_related = []"
   ]
  },
  {
   "cell_type": "code",
   "execution_count": 5,
   "metadata": {},
   "outputs": [],
   "source": [
    "total = list(df['Number2'])\n",
    "total = total[:-2]"
   ]
  },
  {
   "cell_type": "code",
   "execution_count": 7,
   "metadata": {},
   "outputs": [],
   "source": [
    "al_related = list(df['Alcohol--Related2'])\n",
    "al_related = al_related[:-2]"
   ]
  },
  {
   "cell_type": "code",
   "execution_count": 11,
   "metadata": {},
   "outputs": [
    {
     "data": {
      "text/plain": [
       "[Text(0, 0.5, 'Total number of crashes'),\n",
       " Text(0.5, 0, 'Time of the day'),\n",
       " Text(0.5, 1.0, 'Percentage of Alcohol related crashes')]"
      ]
     },
     "execution_count": 11,
     "metadata": {},
     "output_type": "execute_result"
    },
    {
     "data": {
      "image/png": "[encoded data removed]",
      "text/plain": [
       "<Figure size 1080x648 with 1 Axes>"
      ]
     },
     "metadata": {
      "needs_background": "light"
     },
     "output_type": "display_data"
    }
   ],
   "source": [
    "f,ax = plt.subplots(figsize = (15,9))\n",
    "sns.barplot(x=rows,y=total,color='green',alpha = 0.5,label='Total' )\n",
    "sns.barplot(x=rows,y=al_related,color='blue',alpha = 0.7,label='Alcohol Related')\n",
    "\n",
    "ax.legend(loc='upper left',frameon = True) \n",
    "ax.set(xlabel='Time of the day', ylabel='Total number of crashes',title = \"Percentage of Alcohol related crashes\")"
   ]
  },
  {
   "cell_type": "code",
   "execution_count": null,
   "metadata": {},
   "outputs": [],
   "source": []
  }
 ],
 "metadata": {
  "kernelspec": {
   "display_name": "Python 3",
   "language": "python",
   "name": "python3"
  },
  "language_info": {
   "codemirror_mode": {
    "name": "ipython",
    "version": 3
   },
   "file_extension": ".py",
   "mimetype": "text/x-python",
   "name": "python",
   "nbconvert_exporter": "python",
   "pygments_lexer": "ipython3",
   "version": "3.7.1"
  }
 },
 "nbformat": 4,
 "nbformat_minor": 2
}

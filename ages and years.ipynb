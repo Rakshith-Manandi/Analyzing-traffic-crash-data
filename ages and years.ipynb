{
 "cells": [
  {
   "cell_type": "code",
   "execution_count": 2,
   "metadata": {},
   "outputs": [],
   "source": [
    "import pandas as pd\n",
    "import bokeh"
   ]
  },
  {
   "cell_type": "code",
   "execution_count": 3,
   "metadata": {},
   "outputs": [],
   "source": [
    "line1 = [] # <20\n",
    "line2 = [] # 20~44\n",
    "line3 = [] # 45~64\n",
    "line4 = [] # >65\n",
    "total = []\n",
    "for i in range(2000,2017):\n",
    "    df = pd.read_csv(r'data\\age\\%d.xls'%(i),sep = '\\t',header = None)\n",
    "    df = df.iloc[1:,:]\n",
    "    df.columns = ['age', 'number','nan']\n",
    "    num = df['number']\n",
    "    line1.append(sum(map(int,num[0:4])))\n",
    "    line2.append(sum(map(int,num[4:7])))\n",
    "    line3.append(sum(map(int,num[7:9])))\n",
    "    line4.append(sum(map(int,num[9:11])))\n",
    "    total.append(int(num[13]))\n",
    "    "
   ]
  },
  {
   "cell_type": "code",
   "execution_count": 8,
   "metadata": {},
   "outputs": [],
   "source": [
    "from bokeh.transform import factor_cmap\n",
    "from bokeh.io import show, output_file\n",
    "from bokeh.models import ColumnDataSource, FactorRange\n",
    "from bokeh.plotting import figure\n",
    "\n",
    "years = [str(i) for i in list(range(2000,2017))]\n",
    "ages = ['<20', '20~45', '45~65','>65']\n",
    "\n",
    "data = {'years' : years,\n",
    "        '<20'   : line1,\n",
    "        '20~44'   : line2,\n",
    "        '45~64'   : line3,\n",
    "       '>65': line4  }\n",
    "\n",
    "# this creates [ (\"2015\", \"<20\"), (\"2015\", \"20~45\"), (\"2015\", \"45~65), (\"2015\", \">65\"), ... ]\n",
    "x = [ (year, age) for year in years for age in ages ]\n",
    "counts = sum(zip(data['<20'], data['20~44'], data['45~64'], data['>65']), ()) # like an hstack\n",
    "\n",
    "source = ColumnDataSource(data=dict(x=x, counts=counts))\n",
    "\n",
    "p = figure(x_range=FactorRange(*x), plot_height=250,plot_width = 1000, title=\"Deaths by ages\")\n",
    "\n",
    "p.vbar(x='x', top='counts', width=0.9, source=source,line_color=\"white\",\n",
    "       # use the palette to colormap based on the the x[1:2] values\n",
    "       fill_color=factor_cmap('x', palette=['#225ea8', '#41b6c4', '#a1dab4', '#35B778'], factors=ages, start=1, end=2))\n",
    "\n",
    "p.y_range.start = 0\n",
    "p.x_range.range_padding = 0.1\n",
    "p.xaxis.major_label_orientation = 1\n",
    "p.xgrid.grid_line_color = None\n",
    "\n",
    "show(p)"
   ]
  },
  {
   "cell_type": "code",
   "execution_count": 9,
   "metadata": {},
   "outputs": [],
   "source": [
    "from bokeh.core.properties import value\n",
    "from bokeh.io import show, output_file\n",
    "from bokeh.models import ColumnDataSource\n",
    "from bokeh.plotting import figure\n",
    "from bokeh.transform import dodge\n",
    "\n",
    "years = [str(i) for i in list(range(2000,2017))]\n",
    "ages = ['<20', '20~45', '45~65','>65']\n",
    "\n",
    "data = {'years' : years,\n",
    "        '<20'   : line1,\n",
    "        '20~44'   : line2,\n",
    "        '45~64'   : line3,\n",
    "       '>65': line4  }\n",
    "\n",
    "source = ColumnDataSource(data=data)\n",
    "\n",
    "p = figure(x_range=years, plot_height=350, title=\"Fruit Counts by Year\",\n",
    "           toolbar_location=None, tools=\"\")\n",
    "\n",
    "p.vbar(x=dodge('years', -0.3, range=p.x_range), top='<20', width=0.2, source=source,\n",
    "       color=\"#225ea8\", legend=value('<20'))\n",
    "\n",
    "p.vbar(x=dodge('years',  -0.1,  range=p.x_range), top='20~44', width=0.2, source=source,\n",
    "       color=\"#718dbf\", legend=value('20~44'))\n",
    "\n",
    "p.vbar(x=dodge('years',  0.1, range=p.x_range), top='45~64', width=0.2, source=source,\n",
    "       color=\"#e84d60\", legend=value('45~64'))\n",
    "\n",
    "p.vbar(x=dodge('years',  0.3, range=p.x_range), top='>65', width=0.2, source=source,\n",
    "       color=\"#41b6c4\", legend=value('>65'))\n",
    "\n",
    "p.x_range.range_padding = 0.1\n",
    "p.xgrid.grid_line_color = None\n",
    "p.legend.location = \"top_right\"\n",
    "p.legend.orientation = \"horizontal\"\n",
    "\n",
    "show(p)"
   ]
  },
  {
   "cell_type": "code",
   "execution_count": null,
   "metadata": {},
   "outputs": [],
   "source": []
  },
  {
   "cell_type": "code",
   "execution_count": null,
   "metadata": {},
   "outputs": [],
   "source": []
  },
  {
   "cell_type": "code",
   "execution_count": null,
   "metadata": {},
   "outputs": [],
   "source": []
  },
  {
   "cell_type": "code",
   "execution_count": null,
   "metadata": {},
   "outputs": [],
   "source": []
  },
  {
   "cell_type": "code",
   "execution_count": null,
   "metadata": {},
   "outputs": [],
   "source": []
  }
 ],
 "metadata": {
  "kernelspec": {
   "display_name": "Python 3",
   "language": "python",
   "name": "python3"
  }
 },
 "nbformat": 4,
 "nbformat_minor": 2
}
